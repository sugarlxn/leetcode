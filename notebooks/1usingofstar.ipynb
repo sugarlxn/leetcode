{
 "cells": [
  {
   "cell_type": "markdown",
   "metadata": {},
   "source": [
    "在 Python 中，星号（*）用于解包操作，它有两种主要用法：\n",
    "\n",
    "1. **函数参数解包**：当你有一个包含多个元素的列表或元组，并且你想要使用这些元素作为函数的参数时，你可以使用 `*` 来解包这个列表或元组。\n",
    "\n"
   ]
  },
  {
   "cell_type": "code",
   "execution_count": 1,
   "metadata": {},
   "outputs": [
    {
     "name": "stdout",
     "output_type": "stream",
     "text": [
      "1 2 3\n"
     ]
    }
   ],
   "source": [
    "def func(a, b, c):\n",
    "    print(a, b, c)\n",
    "\n",
    "args = [1, 2, 3]\n",
    "func(*args)  # 输出：1 2 3"
   ]
  },
  {
   "cell_type": "markdown",
   "metadata": {},
   "source": [
    "\n",
    "\n",
    "2. **解包序列**：当你有一个序列（如列表、元组或字符串），并且你想要将这个序列的元素解包到单独的变量中时，你可以使用 `*`。\n",
    "\n"
   ]
  },
  {
   "cell_type": "code",
   "execution_count": 2,
   "metadata": {},
   "outputs": [
    {
     "name": "stdout",
     "output_type": "stream",
     "text": [
      "1\n",
      "[2, 3, 4, 5]\n"
     ]
    }
   ],
   "source": [
    "numbers = [1, 2, 3, 4, 5]\n",
    "first, *rest = numbers\n",
    "print(first)  # 输出：1\n",
    "print(rest)  # 输出：[2, 3, 4, 5]"
   ]
  },
  {
   "cell_type": "markdown",
   "metadata": {},
   "source": [
    "\n",
    "\n",
    "在这个例子中，`*rest` 将会获取列表中除了第一个元素之外的所有元素。\n",
    "\n",
    "注意：`*` 可以用在函数调用中的任何位置，不仅仅是在列表或元组的开始。例如，`func(*args, 4)` 或 `func(1, *args)` 都是有效的。"
   ]
  }
 ],
 "metadata": {
  "kernelspec": {
   "display_name": "Python 3",
   "language": "python",
   "name": "python3"
  },
  "language_info": {
   "codemirror_mode": {
    "name": "ipython",
    "version": 3
   },
   "file_extension": ".py",
   "mimetype": "text/x-python",
   "name": "python",
   "nbconvert_exporter": "python",
   "pygments_lexer": "ipython3",
   "version": "3.8.10"
  }
 },
 "nbformat": 4,
 "nbformat_minor": 2
}
